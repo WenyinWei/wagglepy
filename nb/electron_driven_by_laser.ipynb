{
 "cells": [
  {
   "cell_type": "code",
   "execution_count": null,
   "id": "5f37b1ac",
   "metadata": {},
   "outputs": [],
   "source": [
    "from sympy import init_printing; init_printing()\n",
    "from IPython.core.interactiveshell import InteractiveShell\n",
    "InteractiveShell.ast_node_interactivity = \"all\" # display all expression in one cell instead of the last one"
   ]
  },
  {
   "cell_type": "markdown",
   "id": "1d9c6826",
   "metadata": {},
   "source": [
    "## Initialization of Variables"
   ]
  },
  {
   "cell_type": "markdown",
   "id": "1843ba4b",
   "metadata": {},
   "source": [
    "## Utility Functions"
   ]
  },
  {
   "cell_type": "code",
   "execution_count": null,
   "id": "48e06dfd",
   "metadata": {},
   "outputs": [],
   "source": [
    "def divide_Array_Eq(eq):\n",
    "    from sympy import Eq\n",
    "    assert(eq.lhs.shape == eq.rhs.shape)\n",
    "    eq_shape = eq.lhs.shape\n",
    "    arr_order = len(eq_shape) \n",
    "    if arr_order > 1: # Not yet tested for high order tensor\n",
    "        eq_list = []\n",
    "        for i in range(eq_shape[0]):\n",
    "            eq_list.append(\n",
    "                divide_Array_Eq(Eq(eq.lhs[i], eq.rhs[i]))\n",
    "            )\n",
    "        return eq_list\n",
    "    elif arr_order == 1:\n",
    "        return [Eq(eq.lhs[i], eq.rhs[i]) for i in range(eq_shape[0])]\n",
    "    else:# arr_order == 0\n",
    "        return eq\n",
    "\n",
    "    \n",
    "def find_trig_period(expr, var):\n",
    "#     from collections.abc import Iterable\n",
    "#     if isinstance(var, Iterable):\n",
    "#         return {find_trig_omega(expr, a_var) for a_var in var}\n",
    "    from sympy.functions.elementary.trigonometric import TrigonometricFunction\n",
    "    if isinstance(expr, TrigonometricFunction):\n",
    "        try:\n",
    "            return {expr.period(symbol=var)}\n",
    "        except:\n",
    "            return set()\n",
    "    else:\n",
    "        periods = [find_trig_period(sub_expr, var) for sub_expr in expr.args]\n",
    "        return set().union(*periods)\n",
    "    \n",
    "def pick_min_period(expr, t):\n",
    "    Ts = find_trig_period(expr, t)\n",
    "    if len(Ts) == 0:\n",
    "        raise ValueError(\"The expression does not contain Trigonometric functions, please decide the T parameter manually.\")\n",
    "    try:\n",
    "        return min(Ts)\n",
    "    except TypeError: # If we can not decide which period is the min one, a random one is chosen.\n",
    "        return next(iter(Ts))\n",
    "    \n",
    "def time_average_of_TrigFunc(expr, t, method=\"Integrate_Then_Average\", T=None):\n",
    "    \n",
    "    if method==\"Integrate_Then_Average\":\n",
    "        from sympy import integrate\n",
    "        \n",
    "        if T is None:\n",
    "            T = pick_min_period(expr, t)\n",
    "        return integrate(expr, (t, 0, T)) / T\n",
    "#     elif method==\"Expand_Multiple_Angle_Then_Subs\":\n",
    "#         raise NotImplementedError(f\"{__name__} not yet implemented for the method '{method}'.\")\n",
    "    else:\n",
    "        raise ValueError(f\"The `method` parameter can only be 'Integrate_Then_Average' right now.\")\n",
    "\n",
    "if __name__ == '__main__': # Code for test\n",
    "    from sympy import sin, sinh, pi, symbols\n",
    "    a = symbols(\"a\", positive=True)\n",
    "    b, t = symbols(\"b, t\", real=True)\n",
    "    find_trig_period(sin((b**2)*t)+sin(b*t), t)"
   ]
  },
  {
   "cell_type": "markdown",
   "id": "8a22651f",
   "metadata": {},
   "source": [
    "## Set up the Newton Second Law Equation (ode system)"
   ]
  },
  {
   "cell_type": "code",
   "execution_count": null,
   "id": "9566df71",
   "metadata": {
    "scrolled": true
   },
   "outputs": [],
   "source": []
  },
  {
   "cell_type": "markdown",
   "id": "6a8f67c3",
   "metadata": {},
   "source": [
    "### Time Averaging"
   ]
  },
  {
   "cell_type": "code",
   "execution_count": null,
   "id": "dc7d9f05",
   "metadata": {},
   "outputs": [],
   "source": [
    "from sympy import integrate, Eq, symbols, Array, Function\n",
    "from sympy import sin, cos, sqrt\n",
    "from sinupy.algebra.tensor import cross\n",
    "\n",
    "t, x, delta, a_0 = symbols(\"t, x, delta, a_0\", real=True)\n",
    "r_x, r_y, r_z = symbols(\"r_x, r_y, r_z\", real=True, cls=Function); r = Array([r_x(t), r_y(t), r_z(t)])\n",
    "p_x, p_y, p_z = symbols(\"p_x, p_y, p_z\", real=True, cls=Function); p = Array([p_x(t), p_y(t), p_z(t)])\n",
    "phi = symbols(\"phi\", real=True, cls=Function)\n",
    "A_x, A_y, A_z = symbols(\"A_x, A_y, A_z\", real=True, cls=Function); # A = Array([0, A_y, A_z]) # Array([A_x, A_y, A_z]) or Array([0, A_y, A_z])"
   ]
  },
  {
   "cell_type": "code",
   "execution_count": null,
   "id": "121cf5e2",
   "metadata": {
    "scrolled": false
   },
   "outputs": [],
   "source": [
    "A = Array([\n",
    "    0,\n",
    "    delta* a_0 * cos(phi(t, x)),\n",
    "    sqrt(1 - delta**2) * a_0 * sin(phi(t, x))\n",
    "]).subs(phi(t, x), t - x)"
   ]
  },
  {
   "cell_type": "code",
   "execution_count": null,
   "id": "fccc815e",
   "metadata": {},
   "outputs": [],
   "source": [
    "phi(t, x).diff(t)\n",
    "phi(t, x).subs(phi(t, x), t-x).diff(t)"
   ]
  },
  {
   "cell_type": "code",
   "execution_count": null,
   "id": "2949b48f",
   "metadata": {},
   "outputs": [],
   "source": [
    "E = -A.diff(t).simplify()\n",
    "B = Array([0, -A[2].diff(x), A[1].diff(x)]).simplify()\n",
    "E; B"
   ]
  },
  {
   "cell_type": "code",
   "execution_count": null,
   "id": "1eee492c",
   "metadata": {},
   "outputs": [],
   "source": [
    "Newton2 = Eq(p.diff(t), -( E.subs(x, r[0]) +  cross (p/sqrt(1 + p[0]**2 + p[1]**2 + p[2]**2), B.subs(x, r[0])) ) )\n",
    "Newton2_list = divide_Array_Eq(Newton2)\n",
    "for i in range(3): Newton2_list[i]"
   ]
  },
  {
   "cell_type": "code",
   "execution_count": null,
   "id": "b4a81eff",
   "metadata": {},
   "outputs": [],
   "source": [
    "import sympy.solvers.ode as ode\n",
    "p_sol = ode.systems.dsolve_system(Newton2_list)\n"
   ]
  },
  {
   "cell_type": "code",
   "execution_count": null,
   "id": "0b54dc61",
   "metadata": {},
   "outputs": [],
   "source": [
    "Newton2_list = [Eq(\n",
    "    p[i] - A[i].subs(x, r[0]),\n",
    "    p[i].subs(t, 0)) for i in [1, 2]]\n",
    "alpha = symbols(\"alpha\", real=True)\n",
    "Newton2_list.append(Eq(\n",
    "    sqrt(1 + p[0]**2 + p[1]**2 + p[2]**2)-p[0],\n",
    "    alpha))\n",
    "for i in range(3): Newton2_list[i]"
   ]
  },
  {
   "cell_type": "code",
   "execution_count": null,
   "id": "c61231af",
   "metadata": {},
   "outputs": [],
   "source": [
    "# Set the p_y(0) = p_z(0) = 0 \n",
    "Newton2_list = [Eq(\n",
    "    p[i] - A[i].subs(x, r[0]),\n",
    "    0) for i in [1, 2]]\n",
    "alpha = symbols(\"alpha\", real=True)\n",
    "Newton2_list.append(Eq(\n",
    "    sqrt(1 + p[0]**2 + p[1]**2 + p[2]**2)-p[0],\n",
    "    alpha))\n",
    "for i in range(3): Newton2_list[i]"
   ]
  },
  {
   "cell_type": "code",
   "execution_count": null,
   "id": "8f11227d",
   "metadata": {},
   "outputs": [],
   "source": [
    "from sympy import solve\n",
    "p_sol = solve(Newton2_list, p[0]); p_sol"
   ]
  },
  {
   "cell_type": "markdown",
   "id": "328bd0d0",
   "metadata": {},
   "source": [
    "Suppose the electron initially at rest, $p_x(0)=p_y(0)=p_z(0)=0$ when $t=0$. Therefore $\\gamma(0)=\\sqrt{1+p^2(t=0)/m^2 c^2}=1$ and $\\alpha=1$."
   ]
  },
  {
   "cell_type": "code",
   "execution_count": null,
   "id": "f7deeec8",
   "metadata": {},
   "outputs": [],
   "source": [
    "import sympy.solvers.ode as ode\n",
    "Newton2_list_init_rest = [eq.subs(alpha, 1) for eq in Newton2_list]\n",
    "Newton2_list_init_rest.append(Eq(p[0], sqrt(1+ p[0]**2 + p[1]**2 + p[2]**2) * r[0].diff(t)))\n",
    "\n",
    "for eq in Newton2_list_init_rest: eq\n",
    "funcs = [p[i] for i in range(3)]\n",
    "funcs.append(r[0])"
   ]
  },
  {
   "cell_type": "code",
   "execution_count": null,
   "id": "a81a4f23",
   "metadata": {},
   "outputs": [],
   "source": [
    "import plotly"
   ]
  },
  {
   "cell_type": "code",
   "execution_count": null,
   "id": "9460fd09",
   "metadata": {},
   "outputs": [],
   "source": [
    "p_sol[0][p[0]] = p_sol[0][p[0]]\\\n",
    "    .subs(p[1], a_0 * delta * cos(t - r[0]))\\\n",
    "    .subs(p[2], a_0 * sqrt(1 - delta**2) * sin(t - r[0]))\\\n",
    "    .subs(alpha, 1).simplify(); \n",
    "from sympy.simplify import collect\n",
    "p_sol[0][p[0]] = collect(p_sol[0][p[0]], cos(2*t - 2*r[0]))\n",
    "p_sol[0][p[1]] = a_0 * delta * cos(t - r[0])\n",
    "p_sol[0][p[2]] = a_0 * sqrt(1 - delta**2) * sin(t - r[0])\n",
    "for i in range(3): p_sol[0][p[i]]"
   ]
  },
  {
   "cell_type": "code",
   "execution_count": null,
   "id": "85ff67a2",
   "metadata": {
    "scrolled": false
   },
   "outputs": [],
   "source": [
    "p_sol = ode.systems.dsolve_system(\n",
    "    Newton2_list_init_rest, \n",
    "    funcs=funcs, t=t, \n",
    "    ics={p[0].subs(t,0): 0, p[1].subs(t,0): 0, p[2].subs(t,0): 0, r[0].subs(t,0): 0})"
   ]
  },
  {
   "cell_type": "code",
   "execution_count": null,
   "id": "310645d5",
   "metadata": {},
   "outputs": [],
   "source": []
  },
  {
   "cell_type": "code",
   "execution_count": null,
   "id": "7fd2f02b",
   "metadata": {},
   "outputs": [],
   "source": []
  },
  {
   "cell_type": "markdown",
   "id": "4abd01e4",
   "metadata": {},
   "source": [
    "## The Electron Trace Interacting with a Beam of Laser "
   ]
  },
  {
   "cell_type": "code",
   "execution_count": null,
   "id": "bd4e1547",
   "metadata": {},
   "outputs": [],
   "source": [
    "from scipy.integrate import ode as sciode\n",
    "import numpy as np\n",
    "\n",
    "x0, t0 = 0.0, 0.0\n",
    "a_0, delta = 1.0, 0.2\n",
    "def f(t, x, a_0, delta):\n",
    "    numerator = 0.25 * a_0**2 * ( 1 + (2*delta**2-1) * np.cos(2*t-2*x))\n",
    "    denominator = 1.0 + 0.25 * a_0**2 * ( 1 + (2*delta**2 - 1) * np.cos(2*t-2*x) )\n",
    "    return numerator / denominator"
   ]
  },
  {
   "cell_type": "code",
   "execution_count": null,
   "id": "ff2d1fca",
   "metadata": {},
   "outputs": [],
   "source": [
    "r = sciode(f).set_integrator('vode', method='bdf')\n",
    "r.set_initial_value(x0, t0).set_f_params(a_0, delta)\n",
    "t1 = 50\n",
    "dt = 0.05\n",
    "num_of_t = int(t1 / dt); num_of_t\n",
    "x_arr = np.empty((num_of_t)); x_arr[0] = x0\n",
    "t_arr = np.arange(num_of_t) * dt\n",
    "\n",
    "i = 0\n",
    "while r.successful() and i < num_of_t-1:\n",
    "    i += 1\n",
    "    x_arr[i] = r.integrate(r.t+dt)\n",
    "    \n",
    "y_arr = delta * a_0 * np.sin(t_arr - x_arr)\n",
    "z_arr =-np.sqrt(1-delta**2) * a_0 * np.cos(t_arr - x_arr)\n",
    "\n",
    "x_rest_arr = x_arr - a_0**2 / 4 * (t_arr-x_arr)\n",
    "px_arr = a_0**2 / 4 * ( 1 + (2* delta**2 - 1) * np.cos(2*t_arr-2*x_arr))\n",
    "py_arr = delta * a_0 * np.cos(t_arr-x_arr)\n",
    "pz_arr = a_0 * np.sqrt(1 - delta**2) * np.sin(t_arr-x_arr)\n",
    "p_arr = np.sqrt(px_arr**2 + py_arr**2 + pz_arr**2)"
   ]
  },
  {
   "cell_type": "code",
   "execution_count": null,
   "id": "fd08a311",
   "metadata": {
    "scrolled": false
   },
   "outputs": [],
   "source": [
    "import plotly.graph_objects as go\n",
    "import numpy as np\n",
    "\n",
    "fig = go.Figure(data=go.Scatter3d(\n",
    "    x=x_arr, y=y_arr, z=z_arr,\n",
    "    marker=dict(\n",
    "        size=4,\n",
    "        color=p_arr,\n",
    "        colorscale='Viridis',\n",
    "    ),\n",
    "    line=dict(\n",
    "        color=p_arr,\n",
    "        width=2\n",
    "    )\n",
    "))\n",
    "\n",
    "fig.update_layout(\n",
    "    scene=dict(\n",
    "        aspectratio = dict( x=1, y=1, z=1.0 ),\n",
    "        aspectmode = 'data'))\n",
    "# fig.show()\n"
   ]
  },
  {
   "cell_type": "code",
   "execution_count": null,
   "id": "662e5183",
   "metadata": {},
   "outputs": [],
   "source": [
    "import plotly.graph_objects as go\n",
    "import numpy as np\n",
    "\n",
    "fig = go.Figure(data=go.Scatter3d(\n",
    "    x=x_rest_arr, y=y_arr, z=z_arr,\n",
    "    marker=dict(\n",
    "        size=4,\n",
    "        color=p_arr,\n",
    "        colorscale='Viridis',\n",
    "    ),\n",
    "    line=dict(\n",
    "        color=p_arr,\n",
    "        width=2\n",
    "    )\n",
    "))\n",
    "\n",
    "fig.update_layout(\n",
    "    scene=dict(\n",
    "        aspectratio = dict( x=1, y=1, z=1.0 ),\n",
    "        aspectmode = 'data'))\n",
    "# fig.show()\n"
   ]
  },
  {
   "cell_type": "markdown",
   "id": "dc7ed5e6",
   "metadata": {},
   "source": [
    "## Fast Lambdify by Cupy "
   ]
  },
  {
   "cell_type": "code",
   "execution_count": null,
   "id": "80fcfcdd",
   "metadata": {},
   "outputs": [],
   "source": [
    "import cupy as cp"
   ]
  },
  {
   "cell_type": "markdown",
   "id": "1c1875f8",
   "metadata": {},
   "source": [
    "## Bugs to be reported to Sympy"
   ]
  },
  {
   "cell_type": "code",
   "execution_count": null,
   "id": "88a97304",
   "metadata": {},
   "outputs": [],
   "source": [
    "from sympy import sin, sinh, pi, symbols\n",
    "a = symbols(\"a\", positive=True)\n",
    "b, t = symbols(\"b, t\", real=True)\n",
    "sin(a*t).period(t)"
   ]
  },
  {
   "cell_type": "code",
   "execution_count": null,
   "id": "c89c3df6",
   "metadata": {},
   "outputs": [],
   "source": [
    "sin(-a*t).period(t) # AttributeError: 'Mul' object has no attribute 'period'\n",
    "sin((-1)*a*t).period(t) # AttributeError: 'Mul' object has no attribute 'period'"
   ]
  },
  {
   "cell_type": "code",
   "execution_count": null,
   "id": "c4fe8637",
   "metadata": {},
   "outputs": [],
   "source": [
    "sin(b*t).period(t)"
   ]
  },
  {
   "cell_type": "code",
   "execution_count": null,
   "id": "b11f458b",
   "metadata": {},
   "outputs": [],
   "source": []
  }
 ],
 "metadata": {
  "celltoolbar": "无",
  "kernelspec": {
   "display_name": "Python 3",
   "language": "python",
   "name": "python3"
  },
  "language_info": {
   "codemirror_mode": {
    "name": "ipython",
    "version": 3
   },
   "file_extension": ".py",
   "mimetype": "text/x-python",
   "name": "python",
   "nbconvert_exporter": "python",
   "pygments_lexer": "ipython3",
   "version": "3.7.5"
  }
 },
 "nbformat": 4,
 "nbformat_minor": 5
}
