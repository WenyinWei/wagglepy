{
 "cells": [
  {
   "cell_type": "code",
   "execution_count": null,
   "id": "4ba5ad0e",
   "metadata": {},
   "outputs": [],
   "source": [
    "RAY_SWITCH = True # allow task-based parallel optimization by ray if set to True  "
   ]
  },
  {
   "cell_type": "code",
   "execution_count": null,
   "id": "5f37b1ac",
   "metadata": {},
   "outputs": [],
   "source": [
    "from sympy import init_printing; init_printing()\n",
    "\n",
    "if RAY_SWITCH: \n",
    "    import ray; ray.init()\n",
    "    def raylize_func(func):\n",
    "        @ray.remote\n",
    "        def raylized_func(*args, **kwargs):\n",
    "            return func(*args, **kwargs)    \n",
    "        return raylized_func\n",
    "\n",
    "from IPython.core.interactiveshell import InteractiveShell\n",
    "InteractiveShell.ast_node_interactivity = \"all\" # display all expression in one cell instead of the last one"
   ]
  },
  {
   "cell_type": "markdown",
   "id": "1d9c6826",
   "metadata": {},
   "source": [
    "## Initialization of Variables"
   ]
  },
  {
   "cell_type": "code",
   "execution_count": null,
   "id": "thousand-bridge",
   "metadata": {},
   "outputs": [],
   "source": [
    "from sympy import integrate, Eq, symbols, Array, Function\n",
    "from sinupy.algebra.tensor import cross\n",
    "x, y, z = symbols('x, y, z', real=True); t = symbols(\"t\", real=True)\n",
    "E_x, E_y, E_z = symbols(\"E_x, E_y, E_z\", real=True); E = Array([E_x, E_y, E_z]); E # Array([E_x, E_y, E_z]) or Array([E_x, 0, 0])\n",
    "B_x, B_y, B_z = symbols(\"B_x, B_y, B_z\", positive=True); B = Array([0, 0, B_z]); B # Array([B_x, B_y, B_z]) or Array([0, 0, B_z])\n",
    "r_x, r_y, r_z = [f(t) for f in symbols(\"r_x, r_y, r_z\", real=True, cls=Function)]; r = Array([r_x, r_y, r_z])\n",
    "v_x, v_y, v_z = [f(t) for f in symbols(\"v_x, v_y, v_z\", real=True, cls=Function)]; v = Array([v_x, v_y, v_z])\n",
    "m = symbols('m', positive=True); q = symbols('q', nonzero=True, real=True)\n"
   ]
  },
  {
   "cell_type": "markdown",
   "id": "8a22651f",
   "metadata": {},
   "source": [
    "## Set up the Newton Second Law Equation (ode system)"
   ]
  },
  {
   "cell_type": "code",
   "execution_count": null,
   "id": "fad6f8e0",
   "metadata": {},
   "outputs": [],
   "source": [
    "Newton2 = Eq(q*E + q* cross(v, B), m * v.diff(t) ); \n",
    "diff_r_is_v = Eq(r.diff(t), v); diff_r_is_v"
   ]
  },
  {
   "cell_type": "code",
   "execution_count": null,
   "id": "79e5fbeb",
   "metadata": {},
   "outputs": [],
   "source": [
    "from sympy import simplify, sqrt, trigsimp, refine, Q, sin, cos, pi, Abs\n",
    "simplify = raylize_func(simplify)\n",
    "trigsimp = raylize_func(trigsimp)\n",
    "# [func = raylize_func(func) for func in [simplify,sqrt]]\n",
    "import sympy.solvers.ode as ode\n",
    "from wagglepy.symutil import divide_Array_Eq\n",
    "\n",
    "# v_sol = ode.systems.dsolve_system(\n",
    "#     divide_Array_Eq(Newton2))\n",
    "# for i in range(3): v_sol[0][i]\n",
    "# for i in range(3): v_sol[0][i].simplify()\n",
    "\n",
    "v_r_sol = ode.systems.dsolve_system(\n",
    "    [*divide_Array_Eq(Newton2),\n",
    "     *divide_Array_Eq(diff_r_is_v)])\n",
    "for comp_sol in v_r_sol[0]: comp_sol\n",
    "\n",
    "v_r_sol[0] = ray.get([simplify.remote(comp_sol) for comp_sol in v_r_sol[0]]) if RAY_SWITCH \\\n",
    "    else [simplify(comp_sol) for comp_sol in v_r_sol[0]]\n",
    "    \n",
    "for comp_sol in v_r_sol[0]: comp_sol"
   ]
  },
  {
   "cell_type": "code",
   "execution_count": null,
   "id": "9566df71",
   "metadata": {
    "scrolled": true
   },
   "outputs": [],
   "source": []
  },
  {
   "cell_type": "markdown",
   "id": "6a8f67c3",
   "metadata": {},
   "source": [
    "### Time Averaging"
   ]
  },
  {
   "cell_type": "code",
   "execution_count": null,
   "id": "7c2fee36",
   "metadata": {
    "scrolled": false
   },
   "outputs": [],
   "source": [
    "from wagglepy.symutil.characteristics import min_period\n",
    "from wagglepy.symutil.op import time_average_of_TrigFunc\n",
    "tprime = symbols('t^{\\prime}', real=True)\n",
    "T = min_period(v_r_sol[0][0].rhs, t)\n",
    "\n",
    "\n",
    "def subs_multiple_pi_trig_func(expr):\n",
    "    return expr\\\n",
    "            .subs(sin((2*pi*q)/Abs(q)), 0)\\\n",
    "            .subs(sin((pi*q)/Abs(q)), 0)\\\n",
    "            .subs(cos((2*pi*q)/Abs(q)), 1)\n",
    "def t_avg_Eq(eq, Tmin, Tmax):\n",
    "        return Eq(\n",
    "            time_average_of_TrigFunc(eq.lhs, t, T=[Tmin, Tmax]),\n",
    "            time_average_of_TrigFunc(eq.rhs, t, T=[Tmin, Tmax]))\n",
    "def simplify_rhs(eq):\n",
    "    return Eq(eq.lhs, eq.rhs.simplify())\n",
    "\n",
    "if RAY_SWITCH: \n",
    "    t_avg_Eq = raylize_func(t_avg_Eq)\n",
    "    subs_multiple_pi_trig_func = raylize_func(subs_multiple_pi_trig_func)\n",
    "    simplify_rhs = raylize_func(simplify_rhs)\n",
    "    \n",
    "    # t_avg_EqSol.remote(v_r_sol[0][0])\n",
    "    # t_avg_EqSol.remote(v_r_sol[0][1])\n",
    "    # t_avg_EqSol.remote(v_r_sol[0][2])\n",
    "    # print(\"The above formulas might look too cumbersome, let's simplify them.\")\n",
    "    futures = []\n",
    "    for i, comp_sol in enumerate(v_r_sol[0]):\n",
    "        t_avg_comp_future = t_avg_Eq.remote(comp_sol, 0, T) if i < 3 \\\n",
    "            else t_avg_Eq.remote(comp_sol, tprime, tprime+T)\n",
    "        futures.append(\n",
    "                simplify_rhs.remote(\n",
    "                    subs_multiple_pi_trig_func.remote(\n",
    "                        trigsimp.remote(\n",
    "                                subs_multiple_pi_trig_func.remote(t_avg_comp_future), \n",
    "                        method=\"fu\")\n",
    "                    )\n",
    "                ))\n",
    "\n",
    "    t_avg_Eq_list = ray.get(futures)\n",
    "    for comp_sol in t_avg_Eq_list: comp_sol\n",
    "else:\n",
    "    pass\n"
   ]
  },
  {
   "cell_type": "code",
   "execution_count": null,
   "id": "bc285984",
   "metadata": {},
   "outputs": [],
   "source": []
  },
  {
   "cell_type": "code",
   "execution_count": null,
   "id": "7fd2f02b",
   "metadata": {},
   "outputs": [],
   "source": []
  },
  {
   "cell_type": "markdown",
   "id": "4abd01e4",
   "metadata": {},
   "source": [
    "## Visualization of The Electron Trace Interacting with a Static E.M. Field "
   ]
  },
  {
   "cell_type": "code",
   "execution_count": null,
   "id": "bd4e1547",
   "metadata": {},
   "outputs": [],
   "source": [
    "from scipy import constants\n",
    "import numpy as np\n",
    "from sympy import lambdify, Symbol\n",
    "v_r_sol_N = [comp_sol.rhs\\\n",
    "             .subs([(E_x, 6e5), (E_y, 6e5), (E_z, 1e4)])\\\n",
    "             .subs([(B_x, 0.0), (B_y, 0.0), (B_z, 5e-2)])\\\n",
    "             .subs([('C1', 1e3), ('C2', 0.0), ('C3', 0.0), ('C4', 0.0), ('C5', 0.0), ('C6', 0.0)])\\\n",
    "             .subs(q, constants.e).subs(m, constants.m_p) for comp_sol in v_r_sol[0]]\n",
    "for i in range(6): v_r_sol_N[i]"
   ]
  },
  {
   "cell_type": "code",
   "execution_count": null,
   "id": "528c71ab",
   "metadata": {},
   "outputs": [],
   "source": [
    "t1 = 2e-4\n",
    "dt = 6e-8\n",
    "num_of_t = int(t1 / dt); num_of_t\n",
    "t_arr = np.arange(num_of_t) * dt\n",
    "\n",
    "x_arr, y_arr, z_arr = (lambdify(t, v_r_sol_N[i], 'numpy')(t_arr) for i in [3, 4, 5])\n",
    "# x_rest_arr = x_arr - a_0**2 / 4 * (t_arr-x_arr)\n",
    "# z_arr = np.zeros_like(x_arr)\n",
    "\n",
    "vx_arr, vy_arr, vz_arr = (lambdify(t, v_r_sol_N[i], 'numpy')(t_arr) for i in [0, 1, 2])\n",
    "v_arr = np.sqrt(vx_arr**2 + vy_arr**2 + vz_arr**2)\n"
   ]
  },
  {
   "cell_type": "code",
   "execution_count": null,
   "id": "fd08a311",
   "metadata": {
    "scrolled": false
   },
   "outputs": [],
   "source": [
    "import plotly.graph_objects as go\n",
    "\n",
    "fig = go.Figure(data=go.Scatter3d(\n",
    "    x=x_arr, y=y_arr, z=z_arr,\n",
    "    marker=dict(\n",
    "        size=2,\n",
    "        color=v_arr,\n",
    "        colorscale='Viridis',\n",
    "    ),\n",
    "    line=dict(\n",
    "        width=2,\n",
    "        color=v_arr,\n",
    "        colorscale='Viridis',\n",
    "    )\n",
    "))\n",
    "\n",
    "fig.update_layout(\n",
    "    scene=dict(\n",
    "        aspectratio = dict( x=1, y=1, z=1.0 ),\n",
    "        aspectmode = 'data'))\n",
    "# fig.show()\n"
   ]
  },
  {
   "cell_type": "markdown",
   "id": "1c1875f8",
   "metadata": {},
   "source": [
    "## Bugs to be reported to Sympy"
   ]
  },
  {
   "cell_type": "code",
   "execution_count": null,
   "id": "88a97304",
   "metadata": {},
   "outputs": [],
   "source": [
    "from sympy import sin, sinh, pi, symbols\n",
    "a = symbols(\"a\", positive=True)\n",
    "b, t = symbols(\"b, t\", real=True)\n",
    "sin(a*t).period(t)"
   ]
  },
  {
   "cell_type": "code",
   "execution_count": null,
   "id": "c89c3df6",
   "metadata": {},
   "outputs": [],
   "source": [
    "sin(-a*t).period(t) # AttributeError: 'Mul' object has no attribute 'period'\n",
    "sin((-1)*a*t).period(t) # AttributeError: 'Mul' object has no attribute 'period'"
   ]
  },
  {
   "cell_type": "code",
   "execution_count": null,
   "id": "c4fe8637",
   "metadata": {},
   "outputs": [],
   "source": [
    "sin(b*t).period(t)"
   ]
  },
  {
   "cell_type": "code",
   "execution_count": null,
   "id": "b11f458b",
   "metadata": {},
   "outputs": [],
   "source": []
  }
 ],
 "metadata": {
  "celltoolbar": "无",
  "kernelspec": {
   "display_name": "Python 3",
   "language": "python",
   "name": "python3"
  },
  "language_info": {
   "codemirror_mode": {
    "name": "ipython",
    "version": 3
   },
   "file_extension": ".py",
   "mimetype": "text/x-python",
   "name": "python",
   "nbconvert_exporter": "python",
   "pygments_lexer": "ipython3",
   "version": "3.7.5"
  }
 },
 "nbformat": 4,
 "nbformat_minor": 5
}
